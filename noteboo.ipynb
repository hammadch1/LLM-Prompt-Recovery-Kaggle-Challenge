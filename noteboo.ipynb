{
 "cells": [
  {
   "cell_type": "code",
   "execution_count": 1,
   "id": "458dda58",
   "metadata": {
    "execution": {
     "iopub.execute_input": "2024-03-29T04:37:40.563101Z",
     "iopub.status.busy": "2024-03-29T04:37:40.562713Z",
     "iopub.status.idle": "2024-03-29T04:37:40.577233Z",
     "shell.execute_reply": "2024-03-29T04:37:40.575960Z"
    },
    "papermill": {
     "duration": 0.021424,
     "end_time": "2024-03-29T04:37:40.579961",
     "exception": false,
     "start_time": "2024-03-29T04:37:40.558537",
     "status": "completed"
    },
    "tags": []
   },
   "outputs": [
    {
     "name": "stdout",
     "output_type": "stream",
     "text": [
      "first\n"
     ]
    }
   ],
   "source": [
    "print('first')"
   ]
  },
  {
   "cell_type": "code",
   "execution_count": null,
   "id": "6bdc1dbd",
   "metadata": {
    "papermill": {
     "duration": 0.001959,
     "end_time": "2024-03-29T04:37:40.584456",
     "exception": false,
     "start_time": "2024-03-29T04:37:40.582497",
     "status": "completed"
    },
    "tags": []
   },
   "outputs": [],
   "source": []
  }
 ],
 "metadata": {
  "kaggle": {
   "accelerator": "none",
   "dataSources": [
    {
     "databundleVersionId": 7806901,
     "sourceId": 67121,
     "sourceType": "competition"
    }
   ],
   "dockerImageVersionId": 30673,
   "isGpuEnabled": false,
   "isInternetEnabled": true,
   "language": "python",
   "sourceType": "notebook"
  },
  "kernelspec": {
   "display_name": "Python 3",
   "language": "python",
   "name": "python3"
  },
  "language_info": {
   "codemirror_mode": {
    "name": "ipython",
    "version": 3
   },
   "file_extension": ".py",
   "mimetype": "text/x-python",
   "name": "python",
   "nbconvert_exporter": "python",
   "pygments_lexer": "ipython3",
   "version": "3.10.13"
  },
  "papermill": {
   "default_parameters": {},
   "duration": 3.684611,
   "end_time": "2024-03-29T04:37:41.009667",
   "environment_variables": {},
   "exception": null,
   "input_path": "__notebook__.ipynb",
   "output_path": "__notebook__.ipynb",
   "parameters": {},
   "start_time": "2024-03-29T04:37:37.325056",
   "version": "2.5.0"
  }
 },
 "nbformat": 4,
 "nbformat_minor": 5
}
