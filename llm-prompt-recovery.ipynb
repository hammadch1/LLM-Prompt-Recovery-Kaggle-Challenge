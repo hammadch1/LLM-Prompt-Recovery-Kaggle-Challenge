{
 "cells": [
  {
   "cell_type": "code",
   "execution_count": 1,
   "id": "bb9fecb2",
   "metadata": {
    "_cell_guid": "b1076dfc-b9ad-4769-8c92-a6c4dae69d19",
    "_uuid": "8f2839f25d086af736a60e9eeb907d3b93b6e0e5",
    "execution": {
     "iopub.execute_input": "2024-03-29T05:21:55.667060Z",
     "iopub.status.busy": "2024-03-29T05:21:55.666793Z",
     "iopub.status.idle": "2024-03-29T05:21:58.279390Z",
     "shell.execute_reply": "2024-03-29T05:21:58.278308Z"
    },
    "papermill": {
     "duration": 2.621276,
     "end_time": "2024-03-29T05:21:58.281911",
     "exception": false,
     "start_time": "2024-03-29T05:21:55.660635",
     "status": "completed"
    },
    "tags": []
   },
   "outputs": [],
   "source": [
    "import pandas as pd\n",
    "from sklearn.model_selection import train_test_split\n",
    "from sklearn.ensemble import RandomForestClassifier\n",
    "from sklearn.metrics import accuracy_score\n",
    "\n",
    "from sklearn.feature_extraction.text import TfidfVectorizer\n"
   ]
  },
  {
   "cell_type": "code",
   "execution_count": 2,
   "id": "2a3e21d3",
   "metadata": {
    "execution": {
     "iopub.execute_input": "2024-03-29T05:21:58.295904Z",
     "iopub.status.busy": "2024-03-29T05:21:58.295137Z",
     "iopub.status.idle": "2024-03-29T05:21:58.310294Z",
     "shell.execute_reply": "2024-03-29T05:21:58.309430Z"
    },
    "papermill": {
     "duration": 0.024363,
     "end_time": "2024-03-29T05:21:58.312605",
     "exception": false,
     "start_time": "2024-03-29T05:21:58.288242",
     "status": "completed"
    },
    "tags": []
   },
   "outputs": [],
   "source": [
    "train_df = pd.read_csv(\"/kaggle/input/llm-prompt-recovery/train.csv\")\n"
   ]
  },
  {
   "cell_type": "code",
   "execution_count": 3,
   "id": "ded6c428",
   "metadata": {
    "execution": {
     "iopub.execute_input": "2024-03-29T05:21:58.326280Z",
     "iopub.status.busy": "2024-03-29T05:21:58.325631Z",
     "iopub.status.idle": "2024-03-29T05:21:58.330757Z",
     "shell.execute_reply": "2024-03-29T05:21:58.329928Z"
    },
    "papermill": {
     "duration": 0.013131,
     "end_time": "2024-03-29T05:21:58.332692",
     "exception": false,
     "start_time": "2024-03-29T05:21:58.319561",
     "status": "completed"
    },
    "tags": []
   },
   "outputs": [],
   "source": [
    "train_df_augmented = pd.concat([train_df] * 10, ignore_index=True)\n"
   ]
  },
  {
   "cell_type": "code",
   "execution_count": 4,
   "id": "7c334ae4",
   "metadata": {
    "execution": {
     "iopub.execute_input": "2024-03-29T05:21:58.343684Z",
     "iopub.status.busy": "2024-03-29T05:21:58.343385Z",
     "iopub.status.idle": "2024-03-29T05:21:58.350356Z",
     "shell.execute_reply": "2024-03-29T05:21:58.349473Z"
    },
    "papermill": {
     "duration": 0.014819,
     "end_time": "2024-03-29T05:21:58.352324",
     "exception": false,
     "start_time": "2024-03-29T05:21:58.337505",
     "status": "completed"
    },
    "tags": []
   },
   "outputs": [],
   "source": [
    "# Step 3: Train a model\n",
    "X_text = train_df_augmented[\"original_text\"]\n",
    "y = train_df_augmented[\"rewritten_text\"]\n"
   ]
  },
  {
   "cell_type": "code",
   "execution_count": 5,
   "id": "c53168db",
   "metadata": {
    "execution": {
     "iopub.execute_input": "2024-03-29T05:21:58.363004Z",
     "iopub.status.busy": "2024-03-29T05:21:58.362769Z",
     "iopub.status.idle": "2024-03-29T05:21:58.366363Z",
     "shell.execute_reply": "2024-03-29T05:21:58.365580Z"
    },
    "papermill": {
     "duration": 0.011243,
     "end_time": "2024-03-29T05:21:58.368309",
     "exception": false,
     "start_time": "2024-03-29T05:21:58.357066",
     "status": "completed"
    },
    "tags": []
   },
   "outputs": [],
   "source": [
    "# Initialize TF-IDF vectorizer\n",
    "tfidf_vectorizer = TfidfVectorizer(max_features=10000)  # You can adjust max_features as needed\n",
    "\n"
   ]
  },
  {
   "cell_type": "code",
   "execution_count": 6,
   "id": "b421c7d0",
   "metadata": {
    "execution": {
     "iopub.execute_input": "2024-03-29T05:21:58.378876Z",
     "iopub.status.busy": "2024-03-29T05:21:58.378402Z",
     "iopub.status.idle": "2024-03-29T05:21:58.400426Z",
     "shell.execute_reply": "2024-03-29T05:21:58.399586Z"
    },
    "papermill": {
     "duration": 0.029189,
     "end_time": "2024-03-29T05:21:58.402262",
     "exception": false,
     "start_time": "2024-03-29T05:21:58.373073",
     "status": "completed"
    },
    "tags": []
   },
   "outputs": [],
   "source": [
    "# Transform text data into TF-IDF features\n",
    "X_text_tfidf = tfidf_vectorizer.fit_transform(X_text)"
   ]
  },
  {
   "cell_type": "code",
   "execution_count": 7,
   "id": "7213ec76",
   "metadata": {
    "execution": {
     "iopub.execute_input": "2024-03-29T05:21:58.412429Z",
     "iopub.status.busy": "2024-03-29T05:21:58.412169Z",
     "iopub.status.idle": "2024-03-29T05:21:58.422780Z",
     "shell.execute_reply": "2024-03-29T05:21:58.421585Z"
    },
    "papermill": {
     "duration": 0.018041,
     "end_time": "2024-03-29T05:21:58.424888",
     "exception": false,
     "start_time": "2024-03-29T05:21:58.406847",
     "status": "completed"
    },
    "tags": []
   },
   "outputs": [],
   "source": [
    "# Split data into train and validation sets\n",
    "X_train, X_val, y_train, y_val = train_test_split(X_text_tfidf, y, test_size=0.2, random_state=42)\n"
   ]
  },
  {
   "cell_type": "code",
   "execution_count": 8,
   "id": "9c52ce0e",
   "metadata": {
    "execution": {
     "iopub.execute_input": "2024-03-29T05:21:58.438201Z",
     "iopub.status.busy": "2024-03-29T05:21:58.437419Z",
     "iopub.status.idle": "2024-03-29T05:21:58.649508Z",
     "shell.execute_reply": "2024-03-29T05:21:58.648568Z"
    },
    "papermill": {
     "duration": 0.220642,
     "end_time": "2024-03-29T05:21:58.651602",
     "exception": false,
     "start_time": "2024-03-29T05:21:58.430960",
     "status": "completed"
    },
    "tags": []
   },
   "outputs": [
    {
     "data": {
      "text/html": [
       "<style>#sk-container-id-1 {color: black;background-color: white;}#sk-container-id-1 pre{padding: 0;}#sk-container-id-1 div.sk-toggleable {background-color: white;}#sk-container-id-1 label.sk-toggleable__label {cursor: pointer;display: block;width: 100%;margin-bottom: 0;padding: 0.3em;box-sizing: border-box;text-align: center;}#sk-container-id-1 label.sk-toggleable__label-arrow:before {content: \"▸\";float: left;margin-right: 0.25em;color: #696969;}#sk-container-id-1 label.sk-toggleable__label-arrow:hover:before {color: black;}#sk-container-id-1 div.sk-estimator:hover label.sk-toggleable__label-arrow:before {color: black;}#sk-container-id-1 div.sk-toggleable__content {max-height: 0;max-width: 0;overflow: hidden;text-align: left;background-color: #f0f8ff;}#sk-container-id-1 div.sk-toggleable__content pre {margin: 0.2em;color: black;border-radius: 0.25em;background-color: #f0f8ff;}#sk-container-id-1 input.sk-toggleable__control:checked~div.sk-toggleable__content {max-height: 200px;max-width: 100%;overflow: auto;}#sk-container-id-1 input.sk-toggleable__control:checked~label.sk-toggleable__label-arrow:before {content: \"▾\";}#sk-container-id-1 div.sk-estimator input.sk-toggleable__control:checked~label.sk-toggleable__label {background-color: #d4ebff;}#sk-container-id-1 div.sk-label input.sk-toggleable__control:checked~label.sk-toggleable__label {background-color: #d4ebff;}#sk-container-id-1 input.sk-hidden--visually {border: 0;clip: rect(1px 1px 1px 1px);clip: rect(1px, 1px, 1px, 1px);height: 1px;margin: -1px;overflow: hidden;padding: 0;position: absolute;width: 1px;}#sk-container-id-1 div.sk-estimator {font-family: monospace;background-color: #f0f8ff;border: 1px dotted black;border-radius: 0.25em;box-sizing: border-box;margin-bottom: 0.5em;}#sk-container-id-1 div.sk-estimator:hover {background-color: #d4ebff;}#sk-container-id-1 div.sk-parallel-item::after {content: \"\";width: 100%;border-bottom: 1px solid gray;flex-grow: 1;}#sk-container-id-1 div.sk-label:hover label.sk-toggleable__label {background-color: #d4ebff;}#sk-container-id-1 div.sk-serial::before {content: \"\";position: absolute;border-left: 1px solid gray;box-sizing: border-box;top: 0;bottom: 0;left: 50%;z-index: 0;}#sk-container-id-1 div.sk-serial {display: flex;flex-direction: column;align-items: center;background-color: white;padding-right: 0.2em;padding-left: 0.2em;position: relative;}#sk-container-id-1 div.sk-item {position: relative;z-index: 1;}#sk-container-id-1 div.sk-parallel {display: flex;align-items: stretch;justify-content: center;background-color: white;position: relative;}#sk-container-id-1 div.sk-item::before, #sk-container-id-1 div.sk-parallel-item::before {content: \"\";position: absolute;border-left: 1px solid gray;box-sizing: border-box;top: 0;bottom: 0;left: 50%;z-index: -1;}#sk-container-id-1 div.sk-parallel-item {display: flex;flex-direction: column;z-index: 1;position: relative;background-color: white;}#sk-container-id-1 div.sk-parallel-item:first-child::after {align-self: flex-end;width: 50%;}#sk-container-id-1 div.sk-parallel-item:last-child::after {align-self: flex-start;width: 50%;}#sk-container-id-1 div.sk-parallel-item:only-child::after {width: 0;}#sk-container-id-1 div.sk-dashed-wrapped {border: 1px dashed gray;margin: 0 0.4em 0.5em 0.4em;box-sizing: border-box;padding-bottom: 0.4em;background-color: white;}#sk-container-id-1 div.sk-label label {font-family: monospace;font-weight: bold;display: inline-block;line-height: 1.2em;}#sk-container-id-1 div.sk-label-container {text-align: center;}#sk-container-id-1 div.sk-container {/* jupyter's `normalize.less` sets `[hidden] { display: none; }` but bootstrap.min.css set `[hidden] { display: none !important; }` so we also need the `!important` here to be able to override the default hidden behavior on the sphinx rendered scikit-learn.org. See: https://github.com/scikit-learn/scikit-learn/issues/21755 */display: inline-block !important;position: relative;}#sk-container-id-1 div.sk-text-repr-fallback {display: none;}</style><div id=\"sk-container-id-1\" class=\"sk-top-container\"><div class=\"sk-text-repr-fallback\"><pre>RandomForestClassifier()</pre><b>In a Jupyter environment, please rerun this cell to show the HTML representation or trust the notebook. <br />On GitHub, the HTML representation is unable to render, please try loading this page with nbviewer.org.</b></div><div class=\"sk-container\" hidden><div class=\"sk-item\"><div class=\"sk-estimator sk-toggleable\"><input class=\"sk-toggleable__control sk-hidden--visually\" id=\"sk-estimator-id-1\" type=\"checkbox\" checked><label for=\"sk-estimator-id-1\" class=\"sk-toggleable__label sk-toggleable__label-arrow\">RandomForestClassifier</label><div class=\"sk-toggleable__content\"><pre>RandomForestClassifier()</pre></div></div></div></div></div>"
      ],
      "text/plain": [
       "RandomForestClassifier()"
      ]
     },
     "execution_count": 8,
     "metadata": {},
     "output_type": "execute_result"
    }
   ],
   "source": [
    "# Initialize and train the model\n",
    "model = RandomForestClassifier()\n",
    "model.fit(X_train, y_train)\n"
   ]
  },
  {
   "cell_type": "code",
   "execution_count": 9,
   "id": "5c2dfeba",
   "metadata": {
    "execution": {
     "iopub.execute_input": "2024-03-29T05:21:58.664212Z",
     "iopub.status.busy": "2024-03-29T05:21:58.663946Z",
     "iopub.status.idle": "2024-03-29T05:21:58.678677Z",
     "shell.execute_reply": "2024-03-29T05:21:58.677605Z"
    },
    "papermill": {
     "duration": 0.02428,
     "end_time": "2024-03-29T05:21:58.680829",
     "exception": false,
     "start_time": "2024-03-29T05:21:58.656549",
     "status": "completed"
    },
    "tags": []
   },
   "outputs": [
    {
     "name": "stdout",
     "output_type": "stream",
     "text": [
      "Validation Accuracy: 1.0\n"
     ]
    }
   ],
   "source": [
    "# Evaluate the model\n",
    "val_predictions = model.predict(X_val)\n",
    "accuracy = accuracy_score(y_val, val_predictions)\n",
    "print(\"Validation Accuracy:\", accuracy)"
   ]
  },
  {
   "cell_type": "code",
   "execution_count": 10,
   "id": "3507ca52",
   "metadata": {
    "execution": {
     "iopub.execute_input": "2024-03-29T05:21:58.692192Z",
     "iopub.status.busy": "2024-03-29T05:21:58.691938Z",
     "iopub.status.idle": "2024-03-29T05:21:58.698796Z",
     "shell.execute_reply": "2024-03-29T05:21:58.698075Z"
    },
    "papermill": {
     "duration": 0.015085,
     "end_time": "2024-03-29T05:21:58.701013",
     "exception": false,
     "start_time": "2024-03-29T05:21:58.685928",
     "status": "completed"
    },
    "tags": []
   },
   "outputs": [],
   "source": [
    "# Step 4: Read the test data\n",
    "test_df = pd.read_csv(\"/kaggle/input/llm-prompt-recovery/test.csv\")\n",
    "\n"
   ]
  },
  {
   "cell_type": "code",
   "execution_count": 11,
   "id": "31bc68e6",
   "metadata": {
    "execution": {
     "iopub.execute_input": "2024-03-29T05:21:58.712175Z",
     "iopub.status.busy": "2024-03-29T05:21:58.711925Z",
     "iopub.status.idle": "2024-03-29T05:21:58.716567Z",
     "shell.execute_reply": "2024-03-29T05:21:58.715762Z"
    },
    "papermill": {
     "duration": 0.012357,
     "end_time": "2024-03-29T05:21:58.718379",
     "exception": false,
     "start_time": "2024-03-29T05:21:58.706022",
     "status": "completed"
    },
    "tags": []
   },
   "outputs": [],
   "source": [
    "# Step 5: Transform test data using TF-IDF vectorizer\n",
    "test_text_tfidf = tfidf_vectorizer.transform(test_df[\"original_text\"])\n",
    "\n"
   ]
  },
  {
   "cell_type": "code",
   "execution_count": 12,
   "id": "0ec70cd1",
   "metadata": {
    "execution": {
     "iopub.execute_input": "2024-03-29T05:21:58.729392Z",
     "iopub.status.busy": "2024-03-29T05:21:58.729131Z",
     "iopub.status.idle": "2024-03-29T05:21:58.739160Z",
     "shell.execute_reply": "2024-03-29T05:21:58.738444Z"
    },
    "papermill": {
     "duration": 0.017536,
     "end_time": "2024-03-29T05:21:58.740995",
     "exception": false,
     "start_time": "2024-03-29T05:21:58.723459",
     "status": "completed"
    },
    "tags": []
   },
   "outputs": [],
   "source": [
    "# Step 6: Make predictions on the test data\n",
    "test_predictions = model.predict(test_text_tfidf)\n"
   ]
  },
  {
   "cell_type": "code",
   "execution_count": 13,
   "id": "89938454",
   "metadata": {
    "execution": {
     "iopub.execute_input": "2024-03-29T05:21:58.751977Z",
     "iopub.status.busy": "2024-03-29T05:21:58.751730Z",
     "iopub.status.idle": "2024-03-29T05:21:58.759523Z",
     "shell.execute_reply": "2024-03-29T05:21:58.758770Z"
    },
    "papermill": {
     "duration": 0.015481,
     "end_time": "2024-03-29T05:21:58.761438",
     "exception": false,
     "start_time": "2024-03-29T05:21:58.745957",
     "status": "completed"
    },
    "tags": []
   },
   "outputs": [],
   "source": [
    "# Step 7: Create submission file\n",
    "submission_df = pd.read_csv(\"/kaggle/input/llm-prompt-recovery/sample_submission.csv\")\n",
    "submission_df[\"rewritten_text\"] = test_predictions\n"
   ]
  },
  {
   "cell_type": "code",
   "execution_count": 14,
   "id": "87bf2149",
   "metadata": {
    "execution": {
     "iopub.execute_input": "2024-03-29T05:21:58.773252Z",
     "iopub.status.busy": "2024-03-29T05:21:58.773010Z",
     "iopub.status.idle": "2024-03-29T05:21:58.778735Z",
     "shell.execute_reply": "2024-03-29T05:21:58.778016Z"
    },
    "papermill": {
     "duration": 0.013407,
     "end_time": "2024-03-29T05:21:58.780693",
     "exception": false,
     "start_time": "2024-03-29T05:21:58.767286",
     "status": "completed"
    },
    "tags": []
   },
   "outputs": [],
   "source": [
    "# Save submission file\n",
    "submission_df.to_csv(\"submission.csv\", index=False)\n"
   ]
  },
  {
   "cell_type": "code",
   "execution_count": 15,
   "id": "bed3c83f",
   "metadata": {
    "execution": {
     "iopub.execute_input": "2024-03-29T05:21:58.791497Z",
     "iopub.status.busy": "2024-03-29T05:21:58.791263Z",
     "iopub.status.idle": "2024-03-29T05:21:58.803649Z",
     "shell.execute_reply": "2024-03-29T05:21:58.802841Z"
    },
    "papermill": {
     "duration": 0.019818,
     "end_time": "2024-03-29T05:21:58.805441",
     "exception": false,
     "start_time": "2024-03-29T05:21:58.785623",
     "status": "completed"
    },
    "tags": []
   },
   "outputs": [
    {
     "data": {
      "text/html": [
       "<div>\n",
       "<style scoped>\n",
       "    .dataframe tbody tr th:only-of-type {\n",
       "        vertical-align: middle;\n",
       "    }\n",
       "\n",
       "    .dataframe tbody tr th {\n",
       "        vertical-align: top;\n",
       "    }\n",
       "\n",
       "    .dataframe thead th {\n",
       "        text-align: right;\n",
       "    }\n",
       "</style>\n",
       "<table border=\"1\" class=\"dataframe\">\n",
       "  <thead>\n",
       "    <tr style=\"text-align: right;\">\n",
       "      <th></th>\n",
       "      <th>id</th>\n",
       "      <th>rewrite_prompt</th>\n",
       "      <th>rewritten_text</th>\n",
       "    </tr>\n",
       "  </thead>\n",
       "  <tbody>\n",
       "    <tr>\n",
       "      <th>0</th>\n",
       "      <td>9559194</td>\n",
       "      <td>Improve that text.</td>\n",
       "      <td>Here is your shanty: (Verse 1) The text is rew...</td>\n",
       "    </tr>\n",
       "  </tbody>\n",
       "</table>\n",
       "</div>"
      ],
      "text/plain": [
       "        id      rewrite_prompt  \\\n",
       "0  9559194  Improve that text.   \n",
       "\n",
       "                                      rewritten_text  \n",
       "0  Here is your shanty: (Verse 1) The text is rew...  "
      ]
     },
     "execution_count": 15,
     "metadata": {},
     "output_type": "execute_result"
    }
   ],
   "source": [
    "submission_df.head()"
   ]
  },
  {
   "cell_type": "code",
   "execution_count": null,
   "id": "43cbb993",
   "metadata": {
    "papermill": {
     "duration": 0.005087,
     "end_time": "2024-03-29T05:21:58.815854",
     "exception": false,
     "start_time": "2024-03-29T05:21:58.810767",
     "status": "completed"
    },
    "tags": []
   },
   "outputs": [],
   "source": []
  }
 ],
 "metadata": {
  "kaggle": {
   "accelerator": "nvidiaTeslaT4",
   "dataSources": [
    {
     "databundleVersionId": 7806901,
     "sourceId": 67121,
     "sourceType": "competition"
    },
    {
     "datasetId": 4509496,
     "sourceId": 7731789,
     "sourceType": "datasetVersion"
    }
   ],
   "dockerImageVersionId": 30673,
   "isGpuEnabled": true,
   "isInternetEnabled": false,
   "language": "python",
   "sourceType": "notebook"
  },
  "kernelspec": {
   "display_name": "Python 3",
   "language": "python",
   "name": "python3"
  },
  "language_info": {
   "codemirror_mode": {
    "name": "ipython",
    "version": 3
   },
   "file_extension": ".py",
   "mimetype": "text/x-python",
   "name": "python",
   "nbconvert_exporter": "python",
   "pygments_lexer": "ipython3",
   "version": "3.10.13"
  },
  "papermill": {
   "default_parameters": {},
   "duration": 6.630694,
   "end_time": "2024-03-29T05:21:59.240308",
   "environment_variables": {},
   "exception": null,
   "input_path": "__notebook__.ipynb",
   "output_path": "__notebook__.ipynb",
   "parameters": {},
   "start_time": "2024-03-29T05:21:52.609614",
   "version": "2.5.0"
  }
 },
 "nbformat": 4,
 "nbformat_minor": 5
}
